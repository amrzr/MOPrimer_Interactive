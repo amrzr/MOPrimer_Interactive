{
 "cells": [
  {
   "cell_type": "code",
   "execution_count": 1,
   "id": "0703a613",
   "metadata": {},
   "outputs": [],
   "source": [
    "deltaH = {\n",
    "    \"AA\": -7.9,\n",
    "    \"TT\": -7.9,\n",
    "    \"AT\": -7.2,\n",
    "    \"TA\": -7.2,\n",
    "    \"CA\": -8.5,\n",
    "    \"GT\": -8.4,\n",
    "    \"CT\": -7.8,\n",
    "    \"GA\": -8.2,\n",
    "    \"CG\": -10.6,\n",
    "    \"GC\": -9.8,\n",
    "    \"GG\": -8.0,\n",
    "    \"CC\": -8.0,\n",
    "    \"initGC\": 0.1,\n",
    "    \"initAT\": 2.3,\n",
    "    \"symmetryH\": 0.0,\n",
    "}\n",
    "\n",
    "deltaS = {\n",
    "    \"AA\": -22.2,\n",
    "    \"TT\": -22.2,\n",
    "    \"AT\": -20.4,\n",
    "    \"TA\": -21.3,\n",
    "    \"CA\": -22.7,\n",
    "    \"GT\": -22.4,\n",
    "    \"CT\": -21.0,\n",
    "    \"GA\": -22.2,\n",
    "    \"CG\": -27.2,\n",
    "    \"GC\": -24.4,\n",
    "    \"GG\": -19.9,\n",
    "    \"CC\": -19.9,\n",
    "    \"initGC\": -2.8,\n",
    "    \"initAT\": 4.1,\n",
    "    \"symmetryS\": -1.4,\n",
    "}\n",
    "\n",
    "\n",
    "def Cal_delH_delS(s: str):\n",
    "    delH = 0\n",
    "    delS = 0\n",
    "    nn = \"\"\n",
    "    for i in range(1, len(s)):\n",
    "        nn = s[i] + s[i + 1]\n",
    "        delH += deltaH[nn]\n",
    "        delS += deltaS[nn]\n",
    "    delS += 0.368 * (len(s) - 1) * 50 * 0.001\n",
    "    return delH, delS"
   ]
  },
  {
   "cell_type": "code",
   "execution_count": 2,
   "id": "6cbdcf33",
   "metadata": {},
   "outputs": [
    {
     "ename": "NameError",
     "evalue": "name 'fprimer' is not defined",
     "output_type": "error",
     "traceback": [
      "\u001b[1;31m---------------------------------------------------------------------------\u001b[0m",
      "\u001b[1;31mNameError\u001b[0m                                 Traceback (most recent call last)",
      "Cell \u001b[1;32mIn[2], line 14\u001b[0m\n\u001b[0;32m     11\u001b[0m \u001b[38;5;28;01mdef\u001b[39;00m \u001b[38;5;21mf_2\u001b[39m(rprimer, Ct, US_Tm):\n\u001b[0;32m     12\u001b[0m     \u001b[38;5;28;01mreturn\u001b[39;00m \u001b[38;5;28mabs\u001b[39m(TmSAN(rprimer, Ct) \u001b[38;5;241m-\u001b[39m US_Tm)\n\u001b[1;32m---> 14\u001b[0m diff_Tm \u001b[38;5;241m=\u001b[39m \u001b[38;5;28mabs\u001b[39m(TmSAN(fprimer, Ct) \u001b[38;5;241m-\u001b[39m TmSAN(rprimer, Ct))\n\u001b[0;32m     16\u001b[0m \u001b[38;5;28;01mdef\u001b[39;00m \u001b[38;5;21mf_3\u001b[39m(diff_Tm, US_Tm_diff):\n\u001b[0;32m     17\u001b[0m     \u001b[38;5;28;01mif\u001b[39;00m diff_Tm\u001b[38;5;241m<\u001b[39m\u001b[38;5;241m=\u001b[39mUS_Tm_diff:\n",
      "\u001b[1;31mNameError\u001b[0m: name 'fprimer' is not defined"
     ]
    }
   ],
   "source": [
    "# Fitness Function 1-3\n",
    "import math\n",
    "\n",
    "\n",
    "def TmSAN(s: str, Ct: float):\n",
    "    dH, dS = Cal_delH_delS(s)\n",
    "    return dH * 1000 / (dS + 1.987 * math.log(Ct / 4)) - 273.15\n",
    "\n",
    "\n",
    "def f_1(fprimer):\n",
    "    return abs(TmSAN(fprimer, Ct) - US_Tm)\n",
    "\n",
    "\n",
    "def f_2(rprimer):\n",
    "    return abs(TmSAN(rprimer, Ct) - US_Tm)\n",
    "\n",
    "\n",
    "def f_3(diff_Tm, US_Tm_diff):\n",
    "    diff_Tm = abs(TmSAN(fprimer, Ct) - TmSAN(rprimer, Ct))\n",
    "\n",
    "    if diff_Tm <= US_Tm_diff:\n",
    "        return 0\n",
    "    return diff_Tm - US_Tm_diff"
   ]
  },
  {
   "cell_type": "code",
   "execution_count": 3,
   "id": "2bffdd1a",
   "metadata": {},
   "outputs": [],
   "source": [
    "# Fitness Function 4\n",
    "\n",
    "\n",
    "def f_4(fprimer, rprimer):\n",
    "    # GCclamp\n",
    "\n",
    "    if fprimer[-1] in \"GC\" and rprimer[-1] in \"GC\":\n",
    "        return 0\n",
    "    elif fprimer[-1] in \"GC\" or rprimer[-1] in \"GC\":\n",
    "        return 1\n",
    "    else:\n",
    "        return 2"
   ]
  },
  {
   "cell_type": "code",
   "execution_count": 4,
   "id": "7512bb3d",
   "metadata": {},
   "outputs": [],
   "source": [
    "# Fitness Function 5 and 6\n",
    "\n",
    "\n",
    "def GC_percent(s: str):\n",
    "    G_no = 0\n",
    "    C_no = 0\n",
    "    for c in s:\n",
    "        if c == \"G\":\n",
    "            G_no += 1\n",
    "        elif c == \"C\":\n",
    "            C_no += 1\n",
    "\n",
    "    return (G_no + C_no) / len(s)\n",
    "\n",
    "\n",
    "def f_5(fprimer):\n",
    "    return abs(GC_percent(fprimer) - US_GC_percent)\n",
    "\n",
    "\n",
    "def f_6(rprimer):\n",
    "    return abs(GC_percent(rprimer) - US_GC_percent)"
   ]
  },
  {
   "cell_type": "code",
   "execution_count": 5,
   "id": "4864409c",
   "metadata": {},
   "outputs": [],
   "source": [
    "# Fitness Function 7\n",
    "\n",
    "bonds = {\"A\": \"T\", \"T\": \"A\", \"G\": \"C\", \"C\": \"G\"}\n",
    "\n",
    "\n",
    "def DimerCheck(p1, p2):\n",
    "    i = 0\n",
    "    j = len(p2) - 1"
   ]
  },
  {
   "cell_type": "code",
   "execution_count": null,
   "id": "ccd8e128",
   "metadata": {},
   "outputs": [],
   "source": []
  },
  {
   "cell_type": "code",
   "execution_count": null,
   "id": "98841485",
   "metadata": {},
   "outputs": [],
   "source": [
    "def fprimer(x):\n",
    "    return s[x[0] : (x[0] + x[1] + 1)]"
   ]
  },
  {
   "cell_type": "code",
   "execution_count": null,
   "id": "1361fefe",
   "metadata": {},
   "outputs": [],
   "source": [
    "def rprimer(x):\n",
    "    rs = x[0] + x[2] - x[3]\n",
    "    return s[rs : (rs + x[3])]"
   ]
  }
 ],
 "metadata": {
  "kernelspec": {
   "display_name": "Python 3 (ipykernel)",
   "language": "python",
   "name": "python3"
  },
  "language_info": {
   "codemirror_mode": {
    "name": "ipython",
    "version": 3
   },
   "file_extension": ".py",
   "mimetype": "text/x-python",
   "name": "python",
   "nbconvert_exporter": "python",
   "pygments_lexer": "ipython3",
   "version": "3.11.5"
  }
 },
 "nbformat": 4,
 "nbformat_minor": 5
}
