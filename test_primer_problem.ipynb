{
 "cells": [
  {
   "cell_type": "code",
   "execution_count": 1,
   "metadata": {},
   "outputs": [],
   "source": [
    "from primer_opt.primer_problem import dummy_problem\n",
    "from Bio.SeqUtils import MeltingTemp\n",
    "\n",
    "dna_sequence = \"AGAGTTTGATCCTGGCTCAGATTGAACGCTGGCGGCACGCCTAACACATGCAAGTCGAACGGCAGCGGGGGAAAGCTTGCTTTCCTGCCGGCGAGTGGCGGACGGGTGAGTAATGCGTAGGAATTTGCCATTAAGAGGGGGACAACTCGGGGAAACTCGAGCTAATACCACATAATCTCTTCGGAGCAAAGAAGGGGATTCTTCGGAACCTTTCGCTTAATGAGAAGCCTACGTTGGATTAGCTTGTTGGTGGGGTAAAGGCTCACCAAGGCGATGATCTATAGCTGGTCTGAGAGGATGATCAGCCACACTGGAACTGAGACACGGTCCAGACTCCTACGGGAGGCAGCAGTGAGGAATTTTGGACAATGGGGGAAACCCTGATCCAGCGATGCCGCGTGTGTGAAGAAGGCCTAAGGGTTGTAAAGCACTTTTAGTGAGGAAGAGAGTAAGTCGGTTAATACCCGGCTTGCAAGACGTTACTCACAGAAAAAGCGCCGGCTAACTCTGTGCCAGCAGCCGCGGTAATACAGAGGGTGCAAGCGTTAATCGGATTGACTGGGCGTAAAGGGCGCGTAGGCGGTAAGATAAGTCAGATGTTAAAAACCCGAGCTCAACTTGGGGACTGCATTTGAAACTATCTCACTAGAGTACAGTAGAGGAGAGCGGAATTTCCGGTGTAGCGGTGAAATGCGTAGATATCGGAAGGAACACCAGTGGCGAAGGCGGCTCTCTGGACTGACACTGACGCTGAGGCGCGAAAGCGTGGGGAGCAAACAGGATTAGATACCCTGGTAGTCCACGCTGTAAACGATGAGAACTAGCTGTTGGTACGTTTAGTATCAGTAGCGCAGCTAACGCGTTAAGTTCTCCGCCTGGGGATTACGGTCGCAAGACTAAAACTCAAAGGAATTGACGGGGGCCCGCACAAGCGGTGGAGCATGCGGTTTAATTCGATGCAACCCGAAAAACCTTACCTACCCTTGACATCCCGCGAAGCCTGTAGAGATACGGGCGTGCTCGAAAGAGAACGCGGTGACAGGTGCTGCATGGCTGTCGTCAGCTCGTGTCGTGAGATGTTGGGTTAAGTCCCGTAACGAGCGCAACCCTTGTCCTTAGTTGCCATCTACATTAGTAGGGAACTCTAAGGAGACTGCCGGCGATAAGTCGGAGGAAGGTGGGGACGATGTCAAGTCATCATGGCCTTTATGGGTAGGGCTACACGCGTGCTACAATGGGCAGTACAAAGGGAAGCGAAGCTGTGAAGTGGAGCAAACCTCAGAAAGCTGCTCGTAATCCGGATTGAAGTCTGCAACTCGACTTCATGAGGTTGGAATCGCTAGTAATCGCAGATCAGCATGCTGCGGTGAATACGTTCCCGGGCCTTGTACACACCGCCCGTCACACCATGGAAGTGGGTTGTACCAGAAGTAGGAGAGCTAACCTTCGGGAGGCATCTTACCACGGTATGATTCATGACTGGGGTGAAGTCGTAACAAGGTA\"\n",
    "#pp = dummy_problem(s=dna_sequence, \n",
    "#                   US_GC_percent=50,\n",
    "#                   US_Tm=59,\n",
    "#                   Ct=50,\n",
    "#                   US_Tm_diff=0)"
   ]
  },
  {
   "cell_type": "code",
   "execution_count": 1,
   "metadata": {},
   "outputs": [],
   "source": [
    "def GC_percent(s: str):\n",
    "    G_no = 0\n",
    "    C_no = 0\n",
    "    for c in s:\n",
    "        if c == \"G\":\n",
    "            G_no += 1\n",
    "        elif c == \"C\":\n",
    "            C_no += 1\n",
    "\n",
    "    return (G_no + C_no) / len(s)"
   ]
  },
  {
   "cell_type": "code",
   "execution_count": 2,
   "metadata": {},
   "outputs": [
    {
     "data": {
      "text/plain": [
       "0.5"
      ]
     },
     "execution_count": 2,
     "metadata": {},
     "output_type": "execute_result"
    }
   ],
   "source": [
    "GC_percent(\"AGAGTTTGATCCTGGC\")"
   ]
  },
  {
   "cell_type": "code",
   "execution_count": 3,
   "metadata": {},
   "outputs": [
    {
     "data": {
      "text/plain": [
       "72.62638793680469"
      ]
     },
     "execution_count": 3,
     "metadata": {},
     "output_type": "execute_result"
    }
   ],
   "source": [
    "MeltingTemp.Tm_NN(dna_sequence[2:50])"
   ]
  },
  {
   "cell_type": "code",
   "execution_count": 2,
   "metadata": {},
   "outputs": [
    {
     "ename": "ObjectiveError",
     "evalue": "Bad argument [[10, 20, 550, 20]] supplied to the evaluator: list index out of range",
     "output_type": "error",
     "traceback": [
      "\u001b[0;31m---------------------------------------------------------------------------\u001b[0m",
      "\u001b[0;31mIndexError\u001b[0m                                Traceback (most recent call last)",
      "File \u001b[0;32m/media/amrzr/amrzr_data/Codes/EvoRL/desdeo_problem/problem/Objective.py:263\u001b[0m, in \u001b[0;36mScalarObjective._func_evaluate\u001b[0;34m(self, decision_vector)\u001b[0m\n\u001b[1;32m    262\u001b[0m \u001b[38;5;28;01mtry\u001b[39;00m:\n\u001b[0;32m--> 263\u001b[0m     result \u001b[38;5;241m=\u001b[39m \u001b[38;5;28;43mself\u001b[39;49m\u001b[38;5;241;43m.\u001b[39;49m\u001b[43mevaluator\u001b[49m\u001b[43m(\u001b[49m\u001b[43mdecision_vector\u001b[49m\u001b[43m)\u001b[49m\n\u001b[1;32m    264\u001b[0m \u001b[38;5;28;01mexcept\u001b[39;00m (\u001b[38;5;167;01mTypeError\u001b[39;00m, \u001b[38;5;167;01mIndexError\u001b[39;00m) \u001b[38;5;28;01mas\u001b[39;00m e:\n",
      "File \u001b[0;32m/media/amrzr/amrzr_data/Codes/EvoRL/primer_opt/primer_problem.py:129\u001b[0m, in \u001b[0;36mdummy_problem.<locals>.f1\u001b[0;34m(x)\u001b[0m\n\u001b[1;32m    128\u001b[0m \u001b[38;5;28;01mdef\u001b[39;00m \u001b[38;5;21mf1\u001b[39m(x: np\u001b[38;5;241m.\u001b[39mndarray) \u001b[38;5;241m-\u001b[39m\u001b[38;5;241m>\u001b[39m np\u001b[38;5;241m.\u001b[39mndarray:\n\u001b[0;32m--> 129\u001b[0m     \u001b[38;5;28;01mreturn\u001b[39;00m f_1(\u001b[43mfprimer\u001b[49m\u001b[43m(\u001b[49m\u001b[43mx\u001b[49m\u001b[43m)\u001b[49m)\n",
      "File \u001b[0;32m/media/amrzr/amrzr_data/Codes/EvoRL/primer_opt/primer_problem.py:89\u001b[0m, in \u001b[0;36mdummy_problem.<locals>.fprimer\u001b[0;34m(x)\u001b[0m\n\u001b[1;32m     87\u001b[0m \u001b[38;5;28;01mdef\u001b[39;00m \u001b[38;5;21mfprimer\u001b[39m(x):\n\u001b[1;32m     88\u001b[0m     \u001b[38;5;66;03m#return rev_s[x[0] : (x[0] + x[1] + 1)]\u001b[39;00m\n\u001b[0;32m---> 89\u001b[0m     \u001b[38;5;28;01mreturn\u001b[39;00m rev_s[x[\u001b[38;5;241m0\u001b[39m]\u001b[38;5;241m+\u001b[39m\u001b[43mx\u001b[49m\u001b[43m[\u001b[49m\u001b[38;5;241;43m2\u001b[39;49m\u001b[43m]\u001b[49m\u001b[38;5;241m-\u001b[39mx[\u001b[38;5;241m3\u001b[39m]:x[\u001b[38;5;241m0\u001b[39m]\u001b[38;5;241m+\u001b[39mx[\u001b[38;5;241m2\u001b[39m]]\n",
      "\u001b[0;31mIndexError\u001b[0m: list index out of range",
      "\nDuring handling of the above exception, another exception occurred:\n",
      "\u001b[0;31mObjectiveError\u001b[0m                            Traceback (most recent call last)",
      "Cell \u001b[0;32mIn[2], line 1\u001b[0m\n\u001b[0;32m----> 1\u001b[0m \u001b[43mpp\u001b[49m\u001b[38;5;241;43m.\u001b[39;49m\u001b[43mevaluate\u001b[49m\u001b[43m(\u001b[49m\u001b[43m[\u001b[49m\u001b[43m[\u001b[49m\u001b[38;5;241;43m10\u001b[39;49m\u001b[43m,\u001b[49m\u001b[38;5;241;43m20\u001b[39;49m\u001b[43m,\u001b[49m\u001b[38;5;241;43m550\u001b[39;49m\u001b[43m,\u001b[49m\u001b[38;5;241;43m20\u001b[39;49m\u001b[43m]\u001b[49m\u001b[43m]\u001b[49m\u001b[43m)\u001b[49m\n",
      "File \u001b[0;32m/media/amrzr/amrzr_data/Codes/EvoRL/desdeo_problem/problem/Problem.py:1172\u001b[0m, in \u001b[0;36mMOProblem.evaluate\u001b[0;34m(self, decision_vectors, use_surrogate)\u001b[0m\n\u001b[1;32m   1165\u001b[0m     msg \u001b[38;5;241m=\u001b[39m (\n\u001b[1;32m   1166\u001b[0m         \u001b[38;5;124m\"\u001b[39m\u001b[38;5;124mThe length of the input vectors does not match the number \u001b[39m\u001b[38;5;124m\"\u001b[39m\n\u001b[1;32m   1167\u001b[0m         \u001b[38;5;124m\"\u001b[39m\u001b[38;5;124mof variables in the problem: Input vector length \u001b[39m\u001b[38;5;132;01m{}\u001b[39;00m\u001b[38;5;124m, \u001b[39m\u001b[38;5;124m\"\u001b[39m\n\u001b[1;32m   1168\u001b[0m         \u001b[38;5;124m\"\u001b[39m\u001b[38;5;124mnumber of variables \u001b[39m\u001b[38;5;132;01m{}\u001b[39;00m\u001b[38;5;124m.\u001b[39m\u001b[38;5;124m\"\u001b[39m\n\u001b[1;32m   1169\u001b[0m     )\u001b[38;5;241m.\u001b[39mformat(n_cols, \u001b[38;5;28mself\u001b[39m\u001b[38;5;241m.\u001b[39mn_of_variables)\n\u001b[1;32m   1170\u001b[0m     \u001b[38;5;28;01mraise\u001b[39;00m ProblemError(msg)\n\u001b[0;32m-> 1172\u001b[0m objective_vectors, uncertainity \u001b[38;5;241m=\u001b[39m \u001b[38;5;28;43mself\u001b[39;49m\u001b[38;5;241;43m.\u001b[39;49m\u001b[43mevaluate_objectives\u001b[49m\u001b[43m(\u001b[49m\n\u001b[1;32m   1173\u001b[0m \u001b[43m    \u001b[49m\u001b[43mdecision_vectors\u001b[49m\u001b[43m,\u001b[49m\u001b[43m \u001b[49m\u001b[43muse_surrogate\u001b[49m\u001b[38;5;241;43m=\u001b[39;49m\u001b[43muse_surrogate\u001b[49m\n\u001b[1;32m   1174\u001b[0m \u001b[43m\u001b[49m\u001b[43m)\u001b[49m\n\u001b[1;32m   1176\u001b[0m constraint_values \u001b[38;5;241m=\u001b[39m \u001b[38;5;28mself\u001b[39m\u001b[38;5;241m.\u001b[39mevaluate_constraint_values(\n\u001b[1;32m   1177\u001b[0m     decision_vectors, objective_vectors\n\u001b[1;32m   1178\u001b[0m )\n\u001b[1;32m   1180\u001b[0m \u001b[38;5;66;03m# Calculate fitness, which is always to be minimized\u001b[39;00m\n",
      "File \u001b[0;32m/media/amrzr/amrzr_data/Codes/EvoRL/desdeo_problem/problem/Problem.py:1221\u001b[0m, in \u001b[0;36mMOProblem.evaluate_objectives\u001b[0;34m(self, decision_vectors, use_surrogate)\u001b[0m\n\u001b[1;32m   1218\u001b[0m elem_in_curr_obj \u001b[38;5;241m=\u001b[39m \u001b[38;5;28mself\u001b[39m\u001b[38;5;241m.\u001b[39mnumber_of_objectives(objective)\n\u001b[1;32m   1220\u001b[0m \u001b[38;5;28;01mif\u001b[39;00m elem_in_curr_obj \u001b[38;5;241m==\u001b[39m \u001b[38;5;241m1\u001b[39m:\n\u001b[0;32m-> 1221\u001b[0m     results \u001b[38;5;241m=\u001b[39m \u001b[43mobjective\u001b[49m\u001b[38;5;241;43m.\u001b[39;49m\u001b[43mevaluate\u001b[49m\u001b[43m(\u001b[49m\u001b[43mdecision_vectors\u001b[49m\u001b[43m,\u001b[49m\u001b[43m \u001b[49m\u001b[43muse_surrogate\u001b[49m\u001b[43m)\u001b[49m\n\u001b[1;32m   1222\u001b[0m     objective_vectors[:, obj_column] \u001b[38;5;241m=\u001b[39m results\u001b[38;5;241m.\u001b[39mobjectives\n\u001b[1;32m   1223\u001b[0m     uncertainity[:, obj_column] \u001b[38;5;241m=\u001b[39m results\u001b[38;5;241m.\u001b[39muncertainity\n",
      "File \u001b[0;32m/media/amrzr/amrzr_data/Codes/EvoRL/desdeo_problem/problem/Objective.py:65\u001b[0m, in \u001b[0;36mObjectiveBase.evaluate\u001b[0;34m(self, decision_vector, use_surrogate)\u001b[0m\n\u001b[1;32m     63\u001b[0m     \u001b[38;5;28;01mreturn\u001b[39;00m \u001b[38;5;28mself\u001b[39m\u001b[38;5;241m.\u001b[39m_surrogate_evaluate(decision_vector)\n\u001b[1;32m     64\u001b[0m \u001b[38;5;28;01melse\u001b[39;00m:\n\u001b[0;32m---> 65\u001b[0m     \u001b[38;5;28;01mreturn\u001b[39;00m \u001b[38;5;28;43mself\u001b[39;49m\u001b[38;5;241;43m.\u001b[39;49m\u001b[43m_func_evaluate\u001b[49m\u001b[43m(\u001b[49m\u001b[43mdecision_vector\u001b[49m\u001b[43m)\u001b[49m\n",
      "File \u001b[0;32m/media/amrzr/amrzr_data/Codes/EvoRL/desdeo_problem/problem/Objective.py:266\u001b[0m, in \u001b[0;36mScalarObjective._func_evaluate\u001b[0;34m(self, decision_vector)\u001b[0m\n\u001b[1;32m    264\u001b[0m \u001b[38;5;28;01mexcept\u001b[39;00m (\u001b[38;5;167;01mTypeError\u001b[39;00m, \u001b[38;5;167;01mIndexError\u001b[39;00m) \u001b[38;5;28;01mas\u001b[39;00m e:\n\u001b[1;32m    265\u001b[0m     msg \u001b[38;5;241m=\u001b[39m \u001b[38;5;124m\"\u001b[39m\u001b[38;5;124mBad argument \u001b[39m\u001b[38;5;132;01m{}\u001b[39;00m\u001b[38;5;124m supplied to the evaluator: \u001b[39m\u001b[38;5;132;01m{}\u001b[39;00m\u001b[38;5;124m\"\u001b[39m\u001b[38;5;241m.\u001b[39mformat(\u001b[38;5;28mstr\u001b[39m(decision_vector), \u001b[38;5;28mstr\u001b[39m(e))\n\u001b[0;32m--> 266\u001b[0m     \u001b[38;5;28;01mraise\u001b[39;00m ObjectiveError(msg)\n\u001b[1;32m    268\u001b[0m \u001b[38;5;66;03m# Store the value of the objective\u001b[39;00m\n\u001b[1;32m    269\u001b[0m \u001b[38;5;28mself\u001b[39m\u001b[38;5;241m.\u001b[39mvalue \u001b[38;5;241m=\u001b[39m result\n",
      "\u001b[0;31mObjectiveError\u001b[0m: Bad argument [[10, 20, 550, 20]] supplied to the evaluator: list index out of range"
     ]
    }
   ],
   "source": [
    "pp.evaluate([[10,20,550,20]])"
   ]
  }
 ],
 "metadata": {
  "kernelspec": {
   "display_name": "Python 3",
   "language": "python",
   "name": "python3"
  },
  "language_info": {
   "codemirror_mode": {
    "name": "ipython",
    "version": 3
   },
   "file_extension": ".py",
   "mimetype": "text/x-python",
   "name": "python",
   "nbconvert_exporter": "python",
   "pygments_lexer": "ipython3",
   "version": "3.10.13"
  }
 },
 "nbformat": 4,
 "nbformat_minor": 2
}
